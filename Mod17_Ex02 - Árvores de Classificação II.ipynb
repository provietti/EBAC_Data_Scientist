{
 "cells": [
  {
   "cell_type": "markdown",
   "metadata": {},
   "source": [
    "# Árvores II - Tarefa 2"
   ]
  },
  {
   "cell_type": "markdown",
   "metadata": {},
   "source": [
    "### 1. Carregar as bases\n",
    "\n",
    "Vamos carregar as bases lidas na tarefa passada. Se você salvou essas bases em arquivo texto, basta fazer a leitura com o comando ```pd.read_csv``` das seguintes bases:\n",
    "\n",
    "- X_train\n",
    "- Y_train\n",
    "- X_test\n",
    "- Y_test\n",
    "\n",
    "Não se esqueça de considerar a leitura dos índices dos arquivos no ```read_csv()```!"
   ]
  },
  {
   "cell_type": "code",
   "execution_count": 79,
   "metadata": {},
   "outputs": [],
   "source": [
    "import pandas as pd\n",
    "import seaborn as sns\n",
    "import matplotlib.pyplot as plt\n",
    "import numpy as np\n",
    "from sklearn.tree import DecisionTreeClassifier\n",
    "from sklearn.model_selection import train_test_split\n",
    "from sklearn.metrics import plot_confusion_matrix"
   ]
  },
  {
   "cell_type": "code",
   "execution_count": 80,
   "metadata": {},
   "outputs": [],
   "source": [
    "#carregando as bases de dados\n",
    "X_train = pd.read_csv('UCI HAR Dataset/UCI HAR Dataset/train/df_x_train.csv',index_col = 'id')\n",
    "X_test = pd.read_csv('UCI HAR Dataset/UCI HAR Dataset/test/df_x_test.csv',index_col = 'id')\n",
    "Y_train = pd.read_csv(\"UCI HAR Dataset/UCI HAR Dataset/train/y_train.txt\", header= None)[0]\n",
    "Y_test = pd.read_csv(\"UCI HAR Dataset/UCI HAR Dataset/test/y_test.txt\", header= None)[0]\n",
    "#Carregando os nomes das variáveis\n",
    "features = pd.read_csv(\"./UCI HAR Dataset/UCI HAR Dataset/features.txt\",  header= None, sep=' ' , usecols=[1])[1]"
   ]
  },
  {
   "cell_type": "markdown",
   "metadata": {},
   "source": [
    "### 2. Divisão da base em Treino, Validação e Teste\n",
    "\n",
    "A base já se encontra dividida em Treino e Validação. O que vamos fazer então é extrair uma base de Validação da base de Treino.\n",
    "\n",
    "Extraia 25% da base de treino como base de validação."
   ]
  },
  {
   "cell_type": "code",
   "execution_count": 81,
   "metadata": {},
   "outputs": [],
   "source": [
    "x_train, x_valid, y_train, y_valid = train_test_split(X_train, Y_train, test_size=.25, random_state=1729)"
   ]
  },
  {
   "cell_type": "markdown",
   "metadata": {},
   "source": [
    "### 3. Melhores 3 variáveis\n",
    "\n",
    "Rode uma árvore com profundidade máxima igual a 4 para prever a atividade humana com todas as variáveis.\n",
    "Observe a importância das variáveis e considere as 3 variáveis com maior importância para os próximos passos.\n",
    "Dica: utilize o atributo ```clf.feature_importances_``` da árvore treinada."
   ]
  },
  {
   "cell_type": "code",
   "execution_count": 82,
   "metadata": {},
   "outputs": [
    {
     "name": "stdout",
     "output_type": "stream",
     "text": [
      "CPU times: total: 1.02 s\n",
      "Wall time: 1.11 s\n"
     ]
    }
   ],
   "source": [
    "%%time\n",
    "\n",
    "#ajustando uma árvore de decisão com nprofundidade máxima = 4\n",
    "clf = DecisionTreeClassifier(random_state=2360873,max_depth = 4).fit(x_train, y_train)"
   ]
  },
  {
   "cell_type": "code",
   "execution_count": 92,
   "metadata": {},
   "outputs": [
    {
     "data": {
      "text/html": [
       "<div>\n",
       "<style scoped>\n",
       "    .dataframe tbody tr th:only-of-type {\n",
       "        vertical-align: middle;\n",
       "    }\n",
       "\n",
       "    .dataframe tbody tr th {\n",
       "        vertical-align: top;\n",
       "    }\n",
       "\n",
       "    .dataframe thead th {\n",
       "        text-align: right;\n",
       "    }\n",
       "</style>\n",
       "<table border=\"1\" class=\"dataframe\">\n",
       "  <thead>\n",
       "    <tr style=\"text-align: right;\">\n",
       "      <th></th>\n",
       "      <th>importances</th>\n",
       "    </tr>\n",
       "  </thead>\n",
       "  <tbody>\n",
       "    <tr>\n",
       "      <th>tGravityAcc-energy()-X</th>\n",
       "      <td>0.280288</td>\n",
       "    </tr>\n",
       "    <tr>\n",
       "      <th>fBodyAcc-mad()-X</th>\n",
       "      <td>0.253431</td>\n",
       "    </tr>\n",
       "    <tr>\n",
       "      <th>angle(Y,gravityMean)</th>\n",
       "      <td>0.172169</td>\n",
       "    </tr>\n",
       "    <tr>\n",
       "      <th>tBodyAccMag-std()</th>\n",
       "      <td>0.134381</td>\n",
       "    </tr>\n",
       "    <tr>\n",
       "      <th>tGravityAcc-arCoeff()-Z,2</th>\n",
       "      <td>0.124594</td>\n",
       "    </tr>\n",
       "    <tr>\n",
       "      <th>tBodyGyro-correlation()-Y,Z</th>\n",
       "      <td>0.017853</td>\n",
       "    </tr>\n",
       "    <tr>\n",
       "      <th>tGravityAcc-energy()-Y</th>\n",
       "      <td>0.011366</td>\n",
       "    </tr>\n",
       "    <tr>\n",
       "      <th>tBodyGyro-min()-X</th>\n",
       "      <td>0.005917</td>\n",
       "    </tr>\n",
       "  </tbody>\n",
       "</table>\n",
       "</div>"
      ],
      "text/plain": [
       "                             importances\n",
       "tGravityAcc-energy()-X          0.280288\n",
       "fBodyAcc-mad()-X                0.253431\n",
       "angle(Y,gravityMean)            0.172169\n",
       "tBodyAccMag-std()               0.134381\n",
       "tGravityAcc-arCoeff()-Z,2       0.124594\n",
       "tBodyGyro-correlation()-Y,Z     0.017853\n",
       "tGravityAcc-energy()-Y          0.011366\n",
       "tBodyGyro-min()-X               0.005917"
      ]
     },
     "execution_count": 92,
     "metadata": {},
     "output_type": "execute_result"
    }
   ],
   "source": [
    "#Verificando as variáveis mais importantes\n",
    "df_feature_importances = pd.DataFrame(clf.feature_importances_, index = x_train.columns, columns = ['importances'])\n",
    "df_feature_importances = (df_feature_importances.query('importances != 0')\n",
    "                          .sort_values(by = 'importances',ascending = False)\n",
    ")\n",
    "\n",
    "df_feature_importances"
   ]
  },
  {
   "cell_type": "markdown",
   "metadata": {},
   "source": [
    "### 4. Construa uma árvore com as 3 melhores variáveis\n",
    "\n",
    "Utilizando as três variáveis encontradas acima, construa uma árvore de decisão. Encontre o melhor ```ccp_alpha``` utilizando a base de validação, conforme a estrutura que vimos em aula."
   ]
  },
  {
   "cell_type": "code",
   "execution_count": 96,
   "metadata": {},
   "outputs": [
    {
     "name": "stdout",
     "output_type": "stream",
     "text": [
      "CPU times: total: 0 ns\n",
      "Wall time: 11 ms\n"
     ]
    }
   ],
   "source": [
    "%%time\n",
    "#ajustando uma árvore de decisão com nprofundidade máxima = 4\n",
    "clf = DecisionTreeClassifier(random_state=2360873,max_depth = 4).fit(x_train[['tGravityAcc-energy()-X','fBodyAcc-mad()-X','angle(Y,gravityMean)']], y_train)"
   ]
  },
  {
   "cell_type": "code",
   "execution_count": 97,
   "metadata": {},
   "outputs": [],
   "source": [
    "#Calculando os ccp_alphas.\n",
    "caminho = DecisionTreeClassifier(random_state=2360873).cost_complexity_pruning_path(x_train[['tGravityAcc-energy()-X','fBodyAcc-mad()-X','angle(Y,gravityMean)']], y_train)\n",
    "ccp_alphas, impurities = caminho.ccp_alphas, caminho.impurities\n",
    "#Certificando que são apenas valores positivos\n",
    "ccp_alphas = [ccp_alpha for ccp_alpha in ccp_alphas if ccp_alpha >= 0]\n",
    "#Selecionando apenas valores únicos\n",
    "ccp_alphas = np.unique(ccp_alphas)\n"
   ]
  },
  {
   "cell_type": "code",
   "execution_count": 98,
   "metadata": {},
   "outputs": [
    {
     "name": "stdout",
     "output_type": "stream",
     "text": [
      "CPU times: total: 3.48 s\n",
      "Wall time: 3.6 s\n"
     ]
    }
   ],
   "source": [
    "%%time\n",
    "#Rodando uma árvore para cada ccp_alpha de ccp_alphas, inserindo cada árvore em uma lista\n",
    "clfs = []\n",
    "for ccp_alpha in ccp_alphas:\n",
    "    clf = DecisionTreeClassifier(random_state=2360873, ccp_alpha=ccp_alpha).fit(x_train[['tGravityAcc-energy()-X','fBodyAcc-mad()-X','angle(Y,gravityMean)']], y_train)\n",
    "    clfs.append(clf)"
   ]
  },
  {
   "cell_type": "code",
   "execution_count": 99,
   "metadata": {},
   "outputs": [
    {
     "data": {
      "image/png": "[encoded data removed]",
      "text/plain": [
       "<Figure size 432x288 with 1 Axes>"
      ]
     },
     "metadata": {
      "needs_background": "light"
     },
     "output_type": "display_data"
    }
   ],
   "source": [
    "#Calculando a acurácia de cada árvore na base de treinamento e de validação\n",
    "train_scores = [clf.score(x_train[['tGravityAcc-energy()-X','fBodyAcc-mad()-X','angle(Y,gravityMean)']], y_train) for clf in clfs]\n",
    "valid_scores = [clf.score(x_valid[['tGravityAcc-energy()-X','fBodyAcc-mad()-X','angle(Y,gravityMean)']], y_valid) for clf in clfs]\n",
    "#Montando um gráfico da acurácia em função do ccp_alpha na base de validação e na base de treino\n",
    "fig, ax = plt.subplots()\n",
    "ax.set_xlabel(\"alpha\")\n",
    "ax.set_ylabel(\"Acurácia\")\n",
    "ax.set_title(\"Acurácia x alpha do conjunto de dados de treino e validação\")\n",
    "ax.plot(ccp_alphas, train_scores, marker='o', label=\"treino\",\n",
    "        drawstyle=\"steps-post\")\n",
    "ax.plot(ccp_alphas, valid_scores, marker='o', label=\"validação\",\n",
    "        drawstyle=\"steps-post\")\n",
    "ax.legend()\n",
    "plt.show()"
   ]
  },
  {
   "cell_type": "code",
   "execution_count": 101,
   "metadata": {},
   "outputs": [
    {
     "name": "stdout",
     "output_type": "stream",
     "text": [
      "Acurácia da melhor árvore na base de validação: 88.63\n"
     ]
    },
    {
     "data": {
      "text/plain": [
       "DecisionTreeClassifier(ccp_alpha=0.00047359892972861743, random_state=2360873)"
      ]
     },
     "execution_count": 101,
     "metadata": {},
     "output_type": "execute_result"
    }
   ],
   "source": [
    "#Seleciona a árvore com maior acurácia na base de validação (em caso de empate pega a com menor ccp_alpha)\n",
    "ind_melhor_arvore = len(valid_scores) - valid_scores[::-1].index(max(valid_scores)) - 1\n",
    "melhor_arvore = clfs[ind_melhor_arvore]\n",
    "\n",
    "print(f'Acurácia da melhor árvore na base de validação: {valid_scores[ind_melhor_arvore]*100:.2f}')\n",
    "\n",
    "melhor_arvore"
   ]
  },
  {
   "cell_type": "markdown",
   "metadata": {},
   "source": [
    "### 5. Avaliação do modelo\n",
    "\n",
    "Avalie a árvore encontrada no item anterior na base de testes."
   ]
  },
  {
   "cell_type": "code",
   "execution_count": 103,
   "metadata": {},
   "outputs": [
    {
     "name": "stdout",
     "output_type": "stream",
     "text": [
      "Acurácia: 72.28\n"
     ]
    },
    {
     "name": "stderr",
     "output_type": "stream",
     "text": [
      "C:\\Users\\rodpr\\anaconda\\lib\\site-packages\\sklearn\\utils\\deprecation.py:87: FutureWarning: Function plot_confusion_matrix is deprecated; Function `plot_confusion_matrix` is deprecated in 1.0 and will be removed in 1.2. Use one of the class methods: ConfusionMatrixDisplay.from_predictions or ConfusionMatrixDisplay.from_estimator.\n",
      "  warnings.warn(msg, category=FutureWarning)\n"
     ]
    },
    {
     "data": {
      "image/png": "[encoded data removed]",
      "text/plain": [
       "<Figure size 432x288 with 2 Axes>"
      ]
     },
     "metadata": {
      "needs_background": "light"
     },
     "output_type": "display_data"
    }
   ],
   "source": [
    "#Calculando a acurácia da melhor árvore na base de teste\n",
    "acuracia_teste = melhor_arvore.score(X_test[['tGravityAcc-energy()-X','fBodyAcc-mad()-X','angle(Y,gravityMean)']], Y_test)\n",
    "print(f'Acurácia: {acuracia_teste*100:.2f}')\n",
    "#Plotando a matriz confusão\n",
    "plot_confusion_matrix(melhor_arvore, X_test[['tGravityAcc-energy()-X','fBodyAcc-mad()-X','angle(Y,gravityMean)']], Y_test);"
   ]
  },
  {
   "cell_type": "code",
   "execution_count": 117,
   "metadata": {},
   "outputs": [
    {
     "name": "stdout",
     "output_type": "stream",
     "text": [
      "Deitado - Percentual de acertos : 100.00 %\n",
      "Em pé - Percentual de acertos : 77.60 %\n",
      "Sentado - Percentual de acertos : 77.64 %\n",
      "Descendo escadas - Percentual de acertos : 74.35 %\n",
      "Subindo escadas - Percentual de acertos : 55.35 %\n",
      "Caminhada - Percentual de acertos : 33.33 %\n"
     ]
    }
   ],
   "source": [
    "percentual_ac_6 = 536/536 *100 #DEITADO\n",
    "percentual_ac_5 = 426/(426+123) * 100 # EM PÉ\n",
    "percentual_ac_4 = 368/(106+368) * 100 #SENTADO\n",
    "percentual_ac_3 = 258/(258+15+74) * 100 #DESCENDO ESCADA\n",
    "percentual_ac_2 = 274/(274+154+66+1) * 100 # SUBINDO ESCADA\n",
    "percentual_ac_1 = 182/(268+182+96) * 100 #CAMINHADA\n",
    "\n",
    "print(f'Deitado - Percentual de acertos : {percentual_ac_6:.2f} %')\n",
    "print(f'Em pé - Percentual de acertos : {percentual_ac_5:.2f} %')\n",
    "print(f'Sentado - Percentual de acertos : {percentual_ac_4:.2f} %')\n",
    "print(f'Descendo escadas - Percentual de acertos : {percentual_ac_3:.2f} %')\n",
    "print(f'Subindo escadas - Percentual de acertos : {percentual_ac_2:.2f} %')\n",
    "print(f'Caminhada - Percentual de acertos : {percentual_ac_1:.2f} %')"
   ]
  },
  {
   "cell_type": "markdown",
   "metadata": {},
   "source": [
    "A acurácia do modelo usando a base de testes ainda ficou bem satisfatória. Com as variáveis escolhidas o modelo ficou bom para prever a posição da pessoa ( em pé,deitada e sentado) e acertou bem a \"atividade descendo escadas\". Para as demais atividades a eficiência do modelo foi bem menor.\n",
    "\n",
    "Provavelmente, para melhorar a acurácia do modelo, precisaremos utilizar outras variáveis diponíveis que ajudem a identificar melhor a posição e deslocamento das pessoas."
   ]
  }
 ],
 "metadata": {
  "kernelspec": {
   "display_name": "Python 3 (ipykernel)",
   "language": "python",
   "name": "python3"
  },
  "language_info": {
   "codemirror_mode": {
    "name": "ipython",
    "version": 3
   },
   "file_extension": ".py",
   "mimetype": "text/x-python",
   "name": "python",
   "nbconvert_exporter": "python",
   "pygments_lexer": "ipython3",
   "version": "3.9.12"
  }
 },
 "nbformat": 4,
 "nbformat_minor": 4
}
