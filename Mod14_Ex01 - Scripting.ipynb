{
 "cells": [
  {
   "cell_type": "markdown",
   "id": "e00be247",
   "metadata": {},
   "source": [
    "### Crie um jupyter notebook com os imports necessários e um código para gerar os gráficos referentes a base de dados de março, abril, maio, junho e dezembro"
   ]
  },
  {
   "cell_type": "code",
   "execution_count": null,
   "id": "e4ee251f",
   "metadata": {},
   "outputs": [],
   "source": [
    "import pandas as pd\n",
    "import seaborn as sns\n",
    "import os\n",
    "import matplotlib.pyplot as plt\n",
    "from datetime import date \n",
    "\n",
    "sns.set_theme()  \n",
    "\n",
    "def plota_pivot_table(df, value, index, func, ylabel, xlabel, opcao='nada'):\n",
    "    if opcao == 'nada':\n",
    "        pd.pivot_table(df, values=value, index=index,\n",
    "                       aggfunc=func).plot(figsize=[15, 5])\n",
    "    elif opcao == 'sort':\n",
    "        pd.pivot_table(df, values=value, index=index,\n",
    "                       aggfunc=func).sort_values(value).plot(figsize=[15, 5])\n",
    "    elif opcao == 'unstack':\n",
    "        pd.pivot_table(df, values=value, index=index,\n",
    "                       aggfunc=func).unstack().plot(figsize=[15, 5])\n",
    "    plt.ylabel(ylabel)\n",
    "    plt.xlabel(xlabel)\n",
    "    return None\n",
    "\n",
    "\n",
    "list_sinasc_csv = ['SINASC_RO_2019_MAR.csv','SINASC_RO_2019_ABR.csv','SINASC_RO_2019_MAI.csv','SINASC_RO_2019_JUN.csv'\n",
    "                   ,'SINASC_RO_2019_DEZ.csv']\n",
    "\n",
    "for name_csv in list_sinasc_csv:\n",
    "    \n",
    "    \n",
    "    sinasc = pd.read_csv('./input/'+ name_csv)\n",
    "    print(sinasc.DTNASC.min(), sinasc.DTNASC.max())\n",
    "\n",
    "    max_data = sinasc.DTNASC.max()[:7]\n",
    "    print(max_data)\n",
    "    os.makedirs('./output/figs/'+max_data, exist_ok=True)\n",
    "\n",
    "\n",
    "    plota_pivot_table(sinasc, 'IDADEMAE', 'DTNASC', 'count', 'quantidade de nascimento','data de nascimento')\n",
    "    plt.savefig('./output/figs/'+max_data+'/quantidade de nascimento.png')\n",
    "\n",
    "    plota_pivot_table(sinasc, 'IDADEMAE', ['DTNASC', 'SEXO'], 'mean', 'media idade mae','data de nascimento','unstack')\n",
    "    plt.savefig('./output/figs/'+max_data+'/media idade mae por sexo.png')\n",
    "\n",
    "    plota_pivot_table(sinasc, 'PESO', ['DTNASC', 'SEXO'], 'mean', 'media peso bebe','data de nascimento','unstack')\n",
    "    plt.savefig('./output/figs/'+max_data+'/media peso bebe por sexo.png')\n",
    "\n",
    "    plota_pivot_table(sinasc, 'PESO', 'ESCMAE', 'median', 'apgar1 medio','gestacao','sort')\n",
    "    plt.savefig('./output/figs/'+max_data+'/media apgar1 por escolaridade mae.png')\n",
    "\n",
    "    plota_pivot_table(sinasc, 'APGAR1', 'GESTACAO', 'mean', 'apgar1 medio','gestacao','sort')\n",
    "    plt.savefig('./output/figs/'+max_data+'/media apgar1 por gestacao.png')\n",
    "\n",
    "    plota_pivot_table(sinasc, 'APGAR5', 'GESTACAO', 'mean', 'apgar5 medio','gestacao','sort')\n",
    "    plt.savefig('./output/figs/'+max_data+'/media apgar5 por gestacao.png')\n"
   ]
  },
  {
   "cell_type": "markdown",
   "id": "1e8691ee",
   "metadata": {},
   "source": [
    "### Como que você poderia fazer para deixar isso mais automatizado?"
   ]
  },
  {
   "cell_type": "markdown",
   "id": "604bc94a",
   "metadata": {},
   "source": [
    "O código poderia verificar a data em que está sendo rodado e  criar uma lista com o nome dos arquivos dos meses anteriores e ir rodando para cada um.\n",
    "\n",
    "Caso os arquivos sejam buscados na internet, um código de webscrapping poderia ser implementado para fazer o download dos arquivos automaticamente."
   ]
  }
 ],
 "metadata": {
  "kernelspec": {
   "display_name": "Python 3 (ipykernel)",
   "language": "python",
   "name": "python3"
  },
  "language_info": {
   "codemirror_mode": {
    "name": "ipython",
    "version": 3
   },
   "file_extension": ".py",
   "mimetype": "text/x-python",
   "name": "python",
   "nbconvert_exporter": "python",
   "pygments_lexer": "ipython3",
   "version": "3.9.12"
  }
 },
 "nbformat": 4,
 "nbformat_minor": 5
}
