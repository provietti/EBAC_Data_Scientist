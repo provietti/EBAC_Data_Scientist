{
 "cells": [
  {
   "cell_type": "markdown",
   "metadata": {},
   "source": [
    "# Classificação de Atividade Humana com PCA\n",
    "\n",
    "Vamos trabalhar com a base da demonstração feita em aula, mas vamos explorar um pouco melhor como é o desempenho da árvore variando o número de componentes principais."
   ]
  },
  {
   "cell_type": "code",
   "execution_count": 2,
   "metadata": {},
   "outputs": [
    {
     "name": "stderr",
     "output_type": "stream",
     "text": [
      "C:\\Users\\rodpr\\AppData\\Local\\Temp\\ipykernel_16564\\2525978091.py:25: FutureWarning: The squeeze argument has been deprecated and will be removed in a future version. Append .squeeze(\"columns\") to the call to squeeze.\n",
      "\n",
      "\n",
      "  features = pd.read_csv(filename_features, header=None, names=['nome_var'], squeeze=True, sep=\"#\")\n",
      "C:\\Users\\rodpr\\AppData\\Local\\Temp\\ipykernel_16564\\2525978091.py:28: FutureWarning: The squeeze argument has been deprecated and will be removed in a future version. Append .squeeze(\"columns\") to the call to squeeze.\n",
      "\n",
      "\n",
      "  subject_train = pd.read_csv(filename_subtrain, header=None, names=['subject_id'], squeeze=True)\n",
      "C:\\Users\\rodpr\\AppData\\Local\\Temp\\ipykernel_16564\\2525978091.py:32: FutureWarning: The squeeze argument has been deprecated and will be removed in a future version. Append .squeeze(\"columns\") to the call to squeeze.\n",
      "\n",
      "\n",
      "  subject_test = pd.read_csv(filename_subtest, header=None, names=['subject_id'], squeeze=True)\n"
     ]
    }
   ],
   "source": [
    "import pandas as pd\n",
    "import matplotlib.pyplot as plt\n",
    "import seaborn as sns\n",
    "import numpy as np\n",
    "\n",
    "from sklearn.tree import DecisionTreeClassifier\n",
    "\n",
    "from sklearn.decomposition import PCA\n",
    "from sklearn.tree import DecisionTreeClassifier\n",
    "from sklearn.metrics import accuracy_score\n",
    "from sklearn.metrics import plot_confusion_matrix\n",
    "\n",
    "\n",
    "filename_features = \"../_Dados/UCI HAR Dataset/features.txt\"\n",
    "filename_labels = \"../_Dados/UCI HAR Dataset/activity_labels.txt\"\n",
    "\n",
    "filename_subtrain = \"../_Dados/UCI HAR Dataset/train/subject_train.txt\"\n",
    "filename_xtrain = \"../_Dados/UCI HAR Dataset/train/X_train.txt\"\n",
    "filename_ytrain = \"../_Dados/UCI HAR Dataset/train/y_train.txt\"\n",
    "\n",
    "filename_subtest = \"../_Dados/UCI HAR Dataset/test/subject_test.txt\"\n",
    "ffilename_xtest = \"../_Dados/UCI HAR Dataset/test/X_test.txt\"\n",
    "filename_ytest = \"../_Dados/UCI HAR Dataset/test/y_test.txt\"\n",
    "\n",
    "features = pd.read_csv(filename_features, header=None, names=['nome_var'], squeeze=True, sep=\"#\")\n",
    "labels = pd.read_csv(filename_labels, delim_whitespace=True, header=None, names=['cod_label', 'label'])\n",
    "\n",
    "subject_train = pd.read_csv(filename_subtrain, header=None, names=['subject_id'], squeeze=True)\n",
    "X_train = pd.read_csv(filename_xtrain, delim_whitespace=True, header=None, names=features.tolist())\n",
    "y_train = pd.read_csv(filename_ytrain, header=None, names=['cod_label'])\n",
    "\n",
    "subject_test = pd.read_csv(filename_subtest, header=None, names=['subject_id'], squeeze=True)\n",
    "X_test = pd.read_csv(ffilename_xtest, delim_whitespace=True, header=None, names=features.tolist())\n",
    "y_test = pd.read_csv(filename_ytest, header=None, names=['cod_label'])"
   ]
  },
  {
   "cell_type": "markdown",
   "metadata": {},
   "source": [
    "## PCA com variáveis padronizadas\n",
    "\n",
    "Reflexão sobre a escala das variáveis:\n",
    "\n",
    "**Variáveis em métricas muito diferentes** podem interferir na análise de componentes principais. Lembra que variância é informação pra nós? Pois bem, tipicamente se há uma variável monetária como salário, vai ter uma ordem de variabilidade bem maior que número de filhos, tempo de emprego ou qualquer variável dummy. Assim, as variáveis de maior variância tendem a \"dominar\" a análise. Nesses casos é comum usar a padronização das variáveis.\n",
    "\n",
    "Faça duas análises de componentes principais para a base do HAR - com e sem padronização e compare:\n",
    "\n",
    "- A variância explicada por componente\n",
    "- A variância explicada acumulada por componente\n",
    "- A variância percentual por componente\n",
    "- A variância percentual acumulada por componente\n",
    "- Quantas componentes você escolheria, em cada caso para explicar 90% da variância?"
   ]
  },
  {
   "cell_type": "markdown",
   "metadata": {},
   "source": [
    "## Árvore com PCA\n",
    "\n",
    "Faça duas uma árvore de decisão com 10 componentes principais - uma com base em dados padronizados e outra sem padronizar. Utilize o ```ccp_alpha=0.001```.\n",
    "\n",
    "Compare a acurácia na base de treino e teste."
   ]
  },
  {
   "cell_type": "markdown",
   "metadata": {},
   "source": [
    "### 1 - Árvore sem padronizar"
   ]
  },
  {
   "cell_type": "code",
   "execution_count": 3,
   "metadata": {},
   "outputs": [
    {
     "name": "stdout",
     "output_type": "stream",
     "text": [
      "CPU times: total: 469 ms\n",
      "Wall time: 264 ms\n"
     ]
    }
   ],
   "source": [
    "%%time\n",
    "# Treinando o PCA (Principal Component Analysis) com 10 componente (n_components=10) usando os dados de treinamento (X_train).\n",
    "prcomp = PCA(n_components=10).fit(X_train) \n",
    "# Transformando os dados de treinamento (X_train) usando o PCA treinado (rcomp) para obter as principais componentes.\n",
    "pc_train = prcomp.transform(X_train)\n",
    "# Transformando os dados de teste (X_test) usando o PCA treinado (rcomp) para obter as principais componentes.\n",
    "pc_test  = prcomp.transform(X_test)\n",
    "\n"
   ]
  },
  {
   "cell_type": "code",
   "execution_count": 4,
   "metadata": {},
   "outputs": [
    {
     "data": {
      "text/plain": [
       "array([34.82363041,  2.73504627,  2.29439284,  1.04377529,  0.943517  ,\n",
       "        0.70815229,  0.65505256,  0.59509005,  0.53964689,  0.47764856])"
      ]
     },
     "execution_count": 4,
     "metadata": {},
     "output_type": "execute_result"
    }
   ],
   "source": [
    "#A variância explicada por componente\n",
    "prcomp.explained_variance_"
   ]
  },
  {
   "cell_type": "code",
   "execution_count": 5,
   "metadata": {},
   "outputs": [
    {
     "data": {
      "text/plain": [
       "array([34.82363041, 37.55867667, 39.85306951, 40.89684481, 41.84036181,\n",
       "       42.5485141 , 43.20356667, 43.79865672, 44.3383036 , 44.81595217])"
      ]
     },
     "execution_count": 5,
     "metadata": {},
     "output_type": "execute_result"
    }
   ],
   "source": [
    "#A variância explicada acumulada por componente \n",
    "prcomp.explained_variance_.cumsum()"
   ]
  },
  {
   "cell_type": "code",
   "execution_count": 6,
   "metadata": {},
   "outputs": [
    {
     "data": {
      "text/plain": [
       "array([0.6255444 , 0.04913023, 0.04121467, 0.01874956, 0.0169486 ,\n",
       "       0.01272069, 0.01176685, 0.01068973, 0.00969379, 0.0085801 ])"
      ]
     },
     "execution_count": 6,
     "metadata": {},
     "output_type": "execute_result"
    }
   ],
   "source": [
    "#A variância percentual por componente\n",
    "prcomp.explained_variance_ratio_"
   ]
  },
  {
   "cell_type": "code",
   "execution_count": 7,
   "metadata": {},
   "outputs": [
    {
     "data": {
      "text/plain": [
       "array([0.6255444 , 0.67467463, 0.7158893 , 0.73463886, 0.75158746,\n",
       "       0.76430816, 0.77607501, 0.78676474, 0.79645853, 0.80503864])"
      ]
     },
     "execution_count": 7,
     "metadata": {},
     "output_type": "execute_result"
    }
   ],
   "source": [
    "#A variância percentual acumulada por componente\n",
    "prcomp.explained_variance_ratio_.cumsum()"
   ]
  },
  {
   "cell_type": "markdown",
   "metadata": {},
   "source": [
    "#### Acurácia da  árvore sem padronização"
   ]
  },
  {
   "cell_type": "code",
   "execution_count": 8,
   "metadata": {},
   "outputs": [
    {
     "name": "stdout",
     "output_type": "stream",
     "text": [
      "Acurácia da árvore na base de treino:    89.3\n",
      "Acurácia da árvore na base de teste:     82.3\n",
      "CPU times: total: 78.1 ms\n",
      "Wall time: 90.8 ms\n"
     ]
    }
   ],
   "source": [
    "%%time\n",
    "#treinando a árvore com a componente principal como variável explicativa\n",
    "clf = DecisionTreeClassifier(random_state=1234,ccp_alpha=0.001).fit(pc_train, y_train)\n",
    "\n",
    "train_score = clf.score(pc_train, y_train)\n",
    "test_score = clf.score(pc_test, y_test)\n",
    "\n",
    "print(f'Acurácia da árvore na base de treino:    {train_score *100:.1f}')\n",
    "print(f'Acurácia da árvore na base de teste:     {test_score*100:.1f}')"
   ]
  },
  {
   "cell_type": "code",
   "execution_count": 9,
   "metadata": {},
   "outputs": [
    {
     "name": "stderr",
     "output_type": "stream",
     "text": [
      "C:\\Users\\rodpr\\anaconda\\lib\\site-packages\\sklearn\\utils\\deprecation.py:87: FutureWarning: Function plot_confusion_matrix is deprecated; Function `plot_confusion_matrix` is deprecated in 1.0 and will be removed in 1.2. Use one of the class methods: ConfusionMatrixDisplay.from_predictions or ConfusionMatrixDisplay.from_estimator.\n",
      "  warnings.warn(msg, category=FutureWarning)\n"
     ]
    },
    {
     "data": {
      "text/plain": [
       "<sklearn.metrics._plot.confusion_matrix.ConfusionMatrixDisplay at 0x228838f45e0>"
      ]
     },
     "execution_count": 9,
     "metadata": {},
     "output_type": "execute_result"
    },
    {
     "data": {
      "image/png": "[encoded data removed]",
      "text/plain": [
       "<Figure size 432x288 with 2 Axes>"
      ]
     },
     "metadata": {
      "needs_background": "light"
     },
     "output_type": "display_data"
    }
   ],
   "source": [
    "plot_confusion_matrix(clf, pc_test, y_test)"
   ]
  },
  {
   "cell_type": "markdown",
   "metadata": {},
   "source": [
    "#### Quantas componentes você escolheria, em cada caso para explicar 90% da variância?\n",
    "\n",
    "Neste caso, com apenas 10  componentes não é possível explicar 90% da variância. Com as 10 componentes chegamos a explicar 80,5% da variância.\n",
    "\n",
    "Para saber com quantas chegaríamos a 90% teríamos que rodar o PCa para todas as componentes\n",
    "\n"
   ]
  },
  {
   "cell_type": "code",
   "execution_count": 31,
   "metadata": {
    "scrolled": true
   },
   "outputs": [
    {
     "name": "stdout",
     "output_type": "stream",
     "text": [
      "CPU times: total: 1 s\n",
      "Wall time: 359 ms\n"
     ]
    }
   ],
   "source": [
    "%%time\n",
    "prcomp_todas = PCA().fit(X_train) "
   ]
  },
  {
   "cell_type": "code",
   "execution_count": 32,
   "metadata": {},
   "outputs": [
    {
     "name": "stdout",
     "output_type": "stream",
     "text": [
      "Para explicar 90% da variância seria necessário 34 componentes principais\n"
     ]
    }
   ],
   "source": [
    "ncomp_criterio3 = (prcomp_todas.explained_variance_ratio_.cumsum()<0.90).sum()+1\n",
    "print(f'Para explicar 90% da variância seria necessário {ncomp_criterio3} componentes principais')"
   ]
  },
  {
   "cell_type": "markdown",
   "metadata": {},
   "source": [
    "### 2 - Árvore padronizada"
   ]
  },
  {
   "cell_type": "code",
   "execution_count": 46,
   "metadata": {},
   "outputs": [
    {
     "name": "stdout",
     "output_type": "stream",
     "text": [
      "CPU times: total: 0 ns\n",
      "Wall time: 0 ns\n"
     ]
    }
   ],
   "source": [
    "%%time\n",
    "#função para padronizar os dados\n",
    "def padroniza(s):\n",
    "    if s.std() > 0:\n",
    "        s = (s - s.mean())/s.std()\n",
    "    return s\n"
   ]
  },
  {
   "cell_type": "code",
   "execution_count": 47,
   "metadata": {},
   "outputs": [
    {
     "data": {
      "text/html": [
       "<div>\n",
       "<style scoped>\n",
       "    .dataframe tbody tr th:only-of-type {\n",
       "        vertical-align: middle;\n",
       "    }\n",
       "\n",
       "    .dataframe tbody tr th {\n",
       "        vertical-align: top;\n",
       "    }\n",
       "\n",
       "    .dataframe thead th {\n",
       "        text-align: right;\n",
       "    }\n",
       "</style>\n",
       "<table border=\"1\" class=\"dataframe\">\n",
       "  <thead>\n",
       "    <tr style=\"text-align: right;\">\n",
       "      <th></th>\n",
       "      <th>1 tBodyAcc-mean()-X</th>\n",
       "      <th>2 tBodyAcc-mean()-Y</th>\n",
       "      <th>3 tBodyAcc-mean()-Z</th>\n",
       "      <th>4 tBodyAcc-std()-X</th>\n",
       "      <th>5 tBodyAcc-std()-Y</th>\n",
       "      <th>6 tBodyAcc-std()-Z</th>\n",
       "      <th>7 tBodyAcc-mad()-X</th>\n",
       "      <th>8 tBodyAcc-mad()-Y</th>\n",
       "      <th>9 tBodyAcc-mad()-Z</th>\n",
       "      <th>10 tBodyAcc-max()-X</th>\n",
       "      <th>...</th>\n",
       "      <th>552 fBodyBodyGyroJerkMag-meanFreq()</th>\n",
       "      <th>553 fBodyBodyGyroJerkMag-skewness()</th>\n",
       "      <th>554 fBodyBodyGyroJerkMag-kurtosis()</th>\n",
       "      <th>555 angle(tBodyAccMean,gravity)</th>\n",
       "      <th>556 angle(tBodyAccJerkMean),gravityMean)</th>\n",
       "      <th>557 angle(tBodyGyroMean,gravityMean)</th>\n",
       "      <th>558 angle(tBodyGyroJerkMean,gravityMean)</th>\n",
       "      <th>559 angle(X,gravityMean)</th>\n",
       "      <th>560 angle(Y,gravityMean)</th>\n",
       "      <th>561 angle(Z,gravityMean)</th>\n",
       "    </tr>\n",
       "  </thead>\n",
       "  <tbody>\n",
       "    <tr>\n",
       "      <th>0</th>\n",
       "      <td>0.200628</td>\n",
       "      <td>-0.063678</td>\n",
       "      <td>-0.419600</td>\n",
       "      <td>-0.868755</td>\n",
       "      <td>-0.939377</td>\n",
       "      <td>-0.737479</td>\n",
       "      <td>-0.859758</td>\n",
       "      <td>-0.938955</td>\n",
       "      <td>-0.766385</td>\n",
       "      <td>-0.855978</td>\n",
       "      <td>...</td>\n",
       "      <td>-0.795305</td>\n",
       "      <td>0.025958</td>\n",
       "      <td>-0.276380</td>\n",
       "      <td>-0.360579</td>\n",
       "      <td>0.062935</td>\n",
       "      <td>-0.778374</td>\n",
       "      <td>-0.026079</td>\n",
       "      <td>-0.687172</td>\n",
       "      <td>0.407918</td>\n",
       "      <td>-0.007567</td>\n",
       "    </tr>\n",
       "    <tr>\n",
       "      <th>1</th>\n",
       "      <td>0.055944</td>\n",
       "      <td>0.031484</td>\n",
       "      <td>-0.253891</td>\n",
       "      <td>-0.875366</td>\n",
       "      <td>-0.923839</td>\n",
       "      <td>-0.849247</td>\n",
       "      <td>-0.868472</td>\n",
       "      <td>-0.921936</td>\n",
       "      <td>-0.848870</td>\n",
       "      <td>-0.871300</td>\n",
       "      <td>...</td>\n",
       "      <td>0.130605</td>\n",
       "      <td>-0.897296</td>\n",
       "      <td>-0.767938</td>\n",
       "      <td>0.133002</td>\n",
       "      <td>-0.021460</td>\n",
       "      <td>-1.218722</td>\n",
       "      <td>1.484369</td>\n",
       "      <td>-0.694091</td>\n",
       "      <td>0.409089</td>\n",
       "      <td>0.007875</td>\n",
       "    </tr>\n",
       "    <tr>\n",
       "      <th>2</th>\n",
       "      <td>0.073510</td>\n",
       "      <td>-0.043414</td>\n",
       "      <td>-0.076289</td>\n",
       "      <td>-0.868980</td>\n",
       "      <td>-0.907698</td>\n",
       "      <td>-0.893724</td>\n",
       "      <td>-0.863078</td>\n",
       "      <td>-0.898793</td>\n",
       "      <td>-0.896640</td>\n",
       "      <td>-0.863264</td>\n",
       "      <td>...</td>\n",
       "      <td>1.152257</td>\n",
       "      <td>-0.260860</td>\n",
       "      <td>-0.438286</td>\n",
       "      <td>-0.377815</td>\n",
       "      <td>0.391949</td>\n",
       "      <td>0.151197</td>\n",
       "      <td>1.704085</td>\n",
       "      <td>-0.702191</td>\n",
       "      <td>0.410260</td>\n",
       "      <td>0.026501</td>\n",
       "    </tr>\n",
       "    <tr>\n",
       "      <th>3</th>\n",
       "      <td>0.066691</td>\n",
       "      <td>-0.208407</td>\n",
       "      <td>-0.249695</td>\n",
       "      <td>-0.870566</td>\n",
       "      <td>-0.939959</td>\n",
       "      <td>-0.921743</td>\n",
       "      <td>-0.864445</td>\n",
       "      <td>-0.938060</td>\n",
       "      <td>-0.925216</td>\n",
       "      <td>-0.863264</td>\n",
       "      <td>...</td>\n",
       "      <td>1.112694</td>\n",
       "      <td>0.591005</td>\n",
       "      <td>0.463123</td>\n",
       "      <td>-0.135016</td>\n",
       "      <td>-0.033635</td>\n",
       "      <td>1.037781</td>\n",
       "      <td>-1.002951</td>\n",
       "      <td>-0.701636</td>\n",
       "      <td>0.414622</td>\n",
       "      <td>0.031712</td>\n",
       "    </tr>\n",
       "    <tr>\n",
       "      <th>4</th>\n",
       "      <td>0.030467</td>\n",
       "      <td>0.027585</td>\n",
       "      <td>-0.109840</td>\n",
       "      <td>-0.875128</td>\n",
       "      <td>-0.934815</td>\n",
       "      <td>-0.921281</td>\n",
       "      <td>-0.867325</td>\n",
       "      <td>-0.931726</td>\n",
       "      <td>-0.927965</td>\n",
       "      <td>-0.870201</td>\n",
       "      <td>...</td>\n",
       "      <td>-0.149567</td>\n",
       "      <td>-0.138505</td>\n",
       "      <td>-0.240296</td>\n",
       "      <td>0.340383</td>\n",
       "      <td>0.268468</td>\n",
       "      <td>1.125841</td>\n",
       "      <td>-1.276196</td>\n",
       "      <td>-0.700104</td>\n",
       "      <td>0.425434</td>\n",
       "      <td>0.045222</td>\n",
       "    </tr>\n",
       "  </tbody>\n",
       "</table>\n",
       "<p>5 rows × 561 columns</p>\n",
       "</div>"
      ],
      "text/plain": [
       "   1 tBodyAcc-mean()-X  2 tBodyAcc-mean()-Y  3 tBodyAcc-mean()-Z  \\\n",
       "0             0.200628            -0.063678            -0.419600   \n",
       "1             0.055944             0.031484            -0.253891   \n",
       "2             0.073510            -0.043414            -0.076289   \n",
       "3             0.066691            -0.208407            -0.249695   \n",
       "4             0.030467             0.027585            -0.109840   \n",
       "\n",
       "   4 tBodyAcc-std()-X  5 tBodyAcc-std()-Y  6 tBodyAcc-std()-Z  \\\n",
       "0           -0.868755           -0.939377           -0.737479   \n",
       "1           -0.875366           -0.923839           -0.849247   \n",
       "2           -0.868980           -0.907698           -0.893724   \n",
       "3           -0.870566           -0.939959           -0.921743   \n",
       "4           -0.875128           -0.934815           -0.921281   \n",
       "\n",
       "   7 tBodyAcc-mad()-X  8 tBodyAcc-mad()-Y  9 tBodyAcc-mad()-Z  \\\n",
       "0           -0.859758           -0.938955           -0.766385   \n",
       "1           -0.868472           -0.921936           -0.848870   \n",
       "2           -0.863078           -0.898793           -0.896640   \n",
       "3           -0.864445           -0.938060           -0.925216   \n",
       "4           -0.867325           -0.931726           -0.927965   \n",
       "\n",
       "   10 tBodyAcc-max()-X  ...  552 fBodyBodyGyroJerkMag-meanFreq()  \\\n",
       "0            -0.855978  ...                            -0.795305   \n",
       "1            -0.871300  ...                             0.130605   \n",
       "2            -0.863264  ...                             1.152257   \n",
       "3            -0.863264  ...                             1.112694   \n",
       "4            -0.870201  ...                            -0.149567   \n",
       "\n",
       "   553 fBodyBodyGyroJerkMag-skewness()  554 fBodyBodyGyroJerkMag-kurtosis()  \\\n",
       "0                             0.025958                            -0.276380   \n",
       "1                            -0.897296                            -0.767938   \n",
       "2                            -0.260860                            -0.438286   \n",
       "3                             0.591005                             0.463123   \n",
       "4                            -0.138505                            -0.240296   \n",
       "\n",
       "   555 angle(tBodyAccMean,gravity)  556 angle(tBodyAccJerkMean),gravityMean)  \\\n",
       "0                        -0.360579                                  0.062935   \n",
       "1                         0.133002                                 -0.021460   \n",
       "2                        -0.377815                                  0.391949   \n",
       "3                        -0.135016                                 -0.033635   \n",
       "4                         0.340383                                  0.268468   \n",
       "\n",
       "   557 angle(tBodyGyroMean,gravityMean)  \\\n",
       "0                             -0.778374   \n",
       "1                             -1.218722   \n",
       "2                              0.151197   \n",
       "3                              1.037781   \n",
       "4                              1.125841   \n",
       "\n",
       "   558 angle(tBodyGyroJerkMean,gravityMean)  559 angle(X,gravityMean)  \\\n",
       "0                                 -0.026079                 -0.687172   \n",
       "1                                  1.484369                 -0.694091   \n",
       "2                                  1.704085                 -0.702191   \n",
       "3                                 -1.002951                 -0.701636   \n",
       "4                                 -1.276196                 -0.700104   \n",
       "\n",
       "   560 angle(Y,gravityMean)  561 angle(Z,gravityMean)  \n",
       "0                  0.407918                 -0.007567  \n",
       "1                  0.409089                  0.007875  \n",
       "2                  0.410260                  0.026501  \n",
       "3                  0.414622                  0.031712  \n",
       "4                  0.425434                  0.045222  \n",
       "\n",
       "[5 rows x 561 columns]"
      ]
     },
     "execution_count": 47,
     "metadata": {},
     "output_type": "execute_result"
    }
   ],
   "source": [
    "# padronizando X_train\n",
    "X_train_pad = pd.DataFrame(X_train).apply(padroniza, axis=0)\n",
    "X_train_pad.head()"
   ]
  },
  {
   "cell_type": "code",
   "execution_count": 48,
   "metadata": {
    "scrolled": true
   },
   "outputs": [
    {
     "data": {
      "text/html": [
       "<div>\n",
       "<style scoped>\n",
       "    .dataframe tbody tr th:only-of-type {\n",
       "        vertical-align: middle;\n",
       "    }\n",
       "\n",
       "    .dataframe tbody tr th {\n",
       "        vertical-align: top;\n",
       "    }\n",
       "\n",
       "    .dataframe thead th {\n",
       "        text-align: right;\n",
       "    }\n",
       "</style>\n",
       "<table border=\"1\" class=\"dataframe\">\n",
       "  <thead>\n",
       "    <tr style=\"text-align: right;\">\n",
       "      <th></th>\n",
       "      <th>1 tBodyAcc-mean()-X</th>\n",
       "      <th>2 tBodyAcc-mean()-Y</th>\n",
       "      <th>3 tBodyAcc-mean()-Z</th>\n",
       "      <th>4 tBodyAcc-std()-X</th>\n",
       "      <th>5 tBodyAcc-std()-Y</th>\n",
       "      <th>6 tBodyAcc-std()-Z</th>\n",
       "      <th>7 tBodyAcc-mad()-X</th>\n",
       "      <th>8 tBodyAcc-mad()-Y</th>\n",
       "      <th>9 tBodyAcc-mad()-Z</th>\n",
       "      <th>10 tBodyAcc-max()-X</th>\n",
       "      <th>...</th>\n",
       "      <th>552 fBodyBodyGyroJerkMag-meanFreq()</th>\n",
       "      <th>553 fBodyBodyGyroJerkMag-skewness()</th>\n",
       "      <th>554 fBodyBodyGyroJerkMag-kurtosis()</th>\n",
       "      <th>555 angle(tBodyAccMean,gravity)</th>\n",
       "      <th>556 angle(tBodyAccJerkMean),gravityMean)</th>\n",
       "      <th>557 angle(tBodyGyroMean,gravityMean)</th>\n",
       "      <th>558 angle(tBodyGyroJerkMean,gravityMean)</th>\n",
       "      <th>559 angle(X,gravityMean)</th>\n",
       "      <th>560 angle(Y,gravityMean)</th>\n",
       "      <th>561 angle(Z,gravityMean)</th>\n",
       "    </tr>\n",
       "  </thead>\n",
       "  <tbody>\n",
       "    <tr>\n",
       "      <th>0</th>\n",
       "      <td>-0.277661</td>\n",
       "      <td>-0.210595</td>\n",
       "      <td>2.192704</td>\n",
       "      <td>-0.787134</td>\n",
       "      <td>-0.833071</td>\n",
       "      <td>-0.093428</td>\n",
       "      <td>-0.807954</td>\n",
       "      <td>-0.838871</td>\n",
       "      <td>-0.104160</td>\n",
       "      <td>-0.824606</td>\n",
       "      <td>...</td>\n",
       "      <td>-0.253620</td>\n",
       "      <td>-0.166362</td>\n",
       "      <td>-0.344707</td>\n",
       "      <td>0.003565</td>\n",
       "      <td>0.357512</td>\n",
       "      <td>-1.363669</td>\n",
       "      <td>0.575389</td>\n",
       "      <td>-0.404722</td>\n",
       "      <td>0.622618</td>\n",
       "      <td>-0.038342</td>\n",
       "    </tr>\n",
       "    <tr>\n",
       "      <th>1</th>\n",
       "      <td>0.198626</td>\n",
       "      <td>0.182560</td>\n",
       "      <td>-0.250221</td>\n",
       "      <td>-0.876836</td>\n",
       "      <td>-0.928903</td>\n",
       "      <td>-0.857905</td>\n",
       "      <td>-0.896993</td>\n",
       "      <td>-0.928791</td>\n",
       "      <td>-0.863122</td>\n",
       "      <td>-0.824606</td>\n",
       "      <td>...</td>\n",
       "      <td>-2.300359</td>\n",
       "      <td>0.490938</td>\n",
       "      <td>0.012254</td>\n",
       "      <td>-0.264048</td>\n",
       "      <td>0.030782</td>\n",
       "      <td>-0.747105</td>\n",
       "      <td>1.870875</td>\n",
       "      <td>-0.361677</td>\n",
       "      <td>0.636623</td>\n",
       "      <td>-0.145684</td>\n",
       "    </tr>\n",
       "    <tr>\n",
       "      <th>2</th>\n",
       "      <td>0.024583</td>\n",
       "      <td>-0.318001</td>\n",
       "      <td>-0.228446</td>\n",
       "      <td>-0.921442</td>\n",
       "      <td>-0.933896</td>\n",
       "      <td>-0.906953</td>\n",
       "      <td>-0.916735</td>\n",
       "      <td>-0.933654</td>\n",
       "      <td>-0.912484</td>\n",
       "      <td>-0.910827</td>\n",
       "      <td>...</td>\n",
       "      <td>-0.291514</td>\n",
       "      <td>0.274775</td>\n",
       "      <td>-0.134966</td>\n",
       "      <td>-0.119651</td>\n",
       "      <td>0.445996</td>\n",
       "      <td>0.037913</td>\n",
       "      <td>0.323883</td>\n",
       "      <td>-0.370869</td>\n",
       "      <td>0.632738</td>\n",
       "      <td>-0.126834</td>\n",
       "    </tr>\n",
       "    <tr>\n",
       "      <th>3</th>\n",
       "      <td>-0.061047</td>\n",
       "      <td>-0.572940</td>\n",
       "      <td>-0.213673</td>\n",
       "      <td>-0.923681</td>\n",
       "      <td>-0.940657</td>\n",
       "      <td>-0.918926</td>\n",
       "      <td>-0.918996</td>\n",
       "      <td>-0.941439</td>\n",
       "      <td>-0.927619</td>\n",
       "      <td>-0.909586</td>\n",
       "      <td>...</td>\n",
       "      <td>-0.058615</td>\n",
       "      <td>-0.210642</td>\n",
       "      <td>-0.441639</td>\n",
       "      <td>-0.066432</td>\n",
       "      <td>0.338455</td>\n",
       "      <td>0.472614</td>\n",
       "      <td>0.625768</td>\n",
       "      <td>-0.363372</td>\n",
       "      <td>0.645167</td>\n",
       "      <td>-0.117565</td>\n",
       "    </tr>\n",
       "    <tr>\n",
       "      <th>4</th>\n",
       "      <td>0.013820</td>\n",
       "      <td>-0.387815</td>\n",
       "      <td>-0.494555</td>\n",
       "      <td>-0.921523</td>\n",
       "      <td>-0.928878</td>\n",
       "      <td>-0.949818</td>\n",
       "      <td>-0.915977</td>\n",
       "      <td>-0.923689</td>\n",
       "      <td>-0.951235</td>\n",
       "      <td>-0.909586</td>\n",
       "      <td>...</td>\n",
       "      <td>-1.090596</td>\n",
       "      <td>-0.810389</td>\n",
       "      <td>-0.796804</td>\n",
       "      <td>-0.022272</td>\n",
       "      <td>-0.098513</td>\n",
       "      <td>1.097162</td>\n",
       "      <td>-0.201965</td>\n",
       "      <td>-0.350197</td>\n",
       "      <td>0.665544</td>\n",
       "      <td>-0.104100</td>\n",
       "    </tr>\n",
       "  </tbody>\n",
       "</table>\n",
       "<p>5 rows × 561 columns</p>\n",
       "</div>"
      ],
      "text/plain": [
       "   1 tBodyAcc-mean()-X  2 tBodyAcc-mean()-Y  3 tBodyAcc-mean()-Z  \\\n",
       "0            -0.277661            -0.210595             2.192704   \n",
       "1             0.198626             0.182560            -0.250221   \n",
       "2             0.024583            -0.318001            -0.228446   \n",
       "3            -0.061047            -0.572940            -0.213673   \n",
       "4             0.013820            -0.387815            -0.494555   \n",
       "\n",
       "   4 tBodyAcc-std()-X  5 tBodyAcc-std()-Y  6 tBodyAcc-std()-Z  \\\n",
       "0           -0.787134           -0.833071           -0.093428   \n",
       "1           -0.876836           -0.928903           -0.857905   \n",
       "2           -0.921442           -0.933896           -0.906953   \n",
       "3           -0.923681           -0.940657           -0.918926   \n",
       "4           -0.921523           -0.928878           -0.949818   \n",
       "\n",
       "   7 tBodyAcc-mad()-X  8 tBodyAcc-mad()-Y  9 tBodyAcc-mad()-Z  \\\n",
       "0           -0.807954           -0.838871           -0.104160   \n",
       "1           -0.896993           -0.928791           -0.863122   \n",
       "2           -0.916735           -0.933654           -0.912484   \n",
       "3           -0.918996           -0.941439           -0.927619   \n",
       "4           -0.915977           -0.923689           -0.951235   \n",
       "\n",
       "   10 tBodyAcc-max()-X  ...  552 fBodyBodyGyroJerkMag-meanFreq()  \\\n",
       "0            -0.824606  ...                            -0.253620   \n",
       "1            -0.824606  ...                            -2.300359   \n",
       "2            -0.910827  ...                            -0.291514   \n",
       "3            -0.909586  ...                            -0.058615   \n",
       "4            -0.909586  ...                            -1.090596   \n",
       "\n",
       "   553 fBodyBodyGyroJerkMag-skewness()  554 fBodyBodyGyroJerkMag-kurtosis()  \\\n",
       "0                            -0.166362                            -0.344707   \n",
       "1                             0.490938                             0.012254   \n",
       "2                             0.274775                            -0.134966   \n",
       "3                            -0.210642                            -0.441639   \n",
       "4                            -0.810389                            -0.796804   \n",
       "\n",
       "   555 angle(tBodyAccMean,gravity)  556 angle(tBodyAccJerkMean),gravityMean)  \\\n",
       "0                         0.003565                                  0.357512   \n",
       "1                        -0.264048                                  0.030782   \n",
       "2                        -0.119651                                  0.445996   \n",
       "3                        -0.066432                                  0.338455   \n",
       "4                        -0.022272                                 -0.098513   \n",
       "\n",
       "   557 angle(tBodyGyroMean,gravityMean)  \\\n",
       "0                             -1.363669   \n",
       "1                             -0.747105   \n",
       "2                              0.037913   \n",
       "3                              0.472614   \n",
       "4                              1.097162   \n",
       "\n",
       "   558 angle(tBodyGyroJerkMean,gravityMean)  559 angle(X,gravityMean)  \\\n",
       "0                                  0.575389                 -0.404722   \n",
       "1                                  1.870875                 -0.361677   \n",
       "2                                  0.323883                 -0.370869   \n",
       "3                                  0.625768                 -0.363372   \n",
       "4                                 -0.201965                 -0.350197   \n",
       "\n",
       "   560 angle(Y,gravityMean)  561 angle(Z,gravityMean)  \n",
       "0                  0.622618                 -0.038342  \n",
       "1                  0.636623                 -0.145684  \n",
       "2                  0.632738                 -0.126834  \n",
       "3                  0.645167                 -0.117565  \n",
       "4                  0.665544                 -0.104100  \n",
       "\n",
       "[5 rows x 561 columns]"
      ]
     },
     "execution_count": 48,
     "metadata": {},
     "output_type": "execute_result"
    }
   ],
   "source": [
    "# padronizando X_test\n",
    "X_test_pad = pd.DataFrame(X_test).apply(padroniza, axis=0)\n",
    "X_test_pad.head()"
   ]
  },
  {
   "cell_type": "code",
   "execution_count": 49,
   "metadata": {},
   "outputs": [
    {
     "name": "stdout",
     "output_type": "stream",
     "text": [
      "CPU times: total: 453 ms\n",
      "Wall time: 188 ms\n"
     ]
    }
   ],
   "source": [
    "%%time\n",
    "# Treinando o PCA (Principal Component Analysis) com 10 componente (n_components=10) usando os dados de treinamento padronizados(X_train_pad).\n",
    "prcomp2 = PCA(n_components=10).fit(X_train_pad) \n",
    "# Transformando os dados de treinamento (X_train) usando o PCA treinado (rcomp) para obter as principais componentes.\n",
    "pc_train2 = prcomp2.transform(X_train_pad)\n",
    "# Transformando os dados de teste padronizados (X_test_pad) usando o PCA treinado (rcomp) para obter as principais componentes.\n",
    "pc_test2  = prcomp2.transform(X_test_pad)\n",
    "\n"
   ]
  },
  {
   "cell_type": "code",
   "execution_count": 50,
   "metadata": {},
   "outputs": [
    {
     "data": {
      "text/plain": [
       "array([284.88237655,  36.9176163 ,  15.74411031,  14.0471749 ,\n",
       "        10.59327892,   9.67167573,   7.69136992,   6.7268124 ,\n",
       "         5.58673919,   5.41398788])"
      ]
     },
     "execution_count": 50,
     "metadata": {},
     "output_type": "execute_result"
    }
   ],
   "source": [
    "#A variância explicada por componente\n",
    "prcomp2.explained_variance_"
   ]
  },
  {
   "cell_type": "code",
   "execution_count": 51,
   "metadata": {},
   "outputs": [
    {
     "data": {
      "text/plain": [
       "array([284.88237655, 321.79999285, 337.54410316, 351.59127806,\n",
       "       362.18455698, 371.85623271, 379.54760262, 386.27441502,\n",
       "       391.86115421, 397.2751421 ])"
      ]
     },
     "execution_count": 51,
     "metadata": {},
     "output_type": "execute_result"
    }
   ],
   "source": [
    "#A variância explicada acumulada por componente \n",
    "prcomp2.explained_variance_.cumsum()"
   ]
  },
  {
   "cell_type": "code",
   "execution_count": 52,
   "metadata": {},
   "outputs": [
    {
     "data": {
      "text/plain": [
       "array([0.50781172, 0.0658068 , 0.02806437, 0.02503953, 0.01888285,\n",
       "       0.01724006, 0.01371011, 0.01199075, 0.00995854, 0.0096506 ])"
      ]
     },
     "execution_count": 52,
     "metadata": {},
     "output_type": "execute_result"
    }
   ],
   "source": [
    "#A variância percentual por componente\n",
    "prcomp2.explained_variance_ratio_"
   ]
  },
  {
   "cell_type": "code",
   "execution_count": 53,
   "metadata": {},
   "outputs": [
    {
     "data": {
      "text/plain": [
       "array([0.50781172, 0.57361853, 0.60168289, 0.62672242, 0.64560527,\n",
       "       0.66284533, 0.67655544, 0.68854619, 0.69850473, 0.70815533])"
      ]
     },
     "execution_count": 53,
     "metadata": {},
     "output_type": "execute_result"
    }
   ],
   "source": [
    "#A variância percentual acumulada por componente\n",
    "prcomp2.explained_variance_ratio_.cumsum()"
   ]
  },
  {
   "cell_type": "markdown",
   "metadata": {},
   "source": [
    "### Acurácia da  árvore com padronização"
   ]
  },
  {
   "cell_type": "code",
   "execution_count": 54,
   "metadata": {},
   "outputs": [
    {
     "name": "stdout",
     "output_type": "stream",
     "text": [
      "Acurácia da árvore na base de treino:    85.9\n",
      "Acurácia da árvore na base de teste:     77.4\n",
      "CPU times: total: 46.9 ms\n",
      "Wall time: 81.8 ms\n"
     ]
    }
   ],
   "source": [
    "%%time\n",
    "#treinando a árvore com a componente principal como variável explicativa\n",
    "clf2 = DecisionTreeClassifier(random_state=1234, ccp_alpha = 0.001).fit(pc_train2, y_train)\n",
    "\n",
    "train_score2 = clf2.score(pc_train2, y_train)\n",
    "test_score2 = clf2.score(pc_test2, y_test)\n",
    "\n",
    "print(f'Acurácia da árvore na base de treino:    {train_score2 *100:.1f}')\n",
    "print(f'Acurácia da árvore na base de teste:     {test_score2*100:.1f}')"
   ]
  },
  {
   "cell_type": "code",
   "execution_count": 55,
   "metadata": {},
   "outputs": [
    {
     "name": "stderr",
     "output_type": "stream",
     "text": [
      "C:\\Users\\rodpr\\anaconda\\lib\\site-packages\\sklearn\\utils\\deprecation.py:87: FutureWarning: Function plot_confusion_matrix is deprecated; Function `plot_confusion_matrix` is deprecated in 1.0 and will be removed in 1.2. Use one of the class methods: ConfusionMatrixDisplay.from_predictions or ConfusionMatrixDisplay.from_estimator.\n",
      "  warnings.warn(msg, category=FutureWarning)\n"
     ]
    },
    {
     "data": {
      "text/plain": [
       "<sklearn.metrics._plot.confusion_matrix.ConfusionMatrixDisplay at 0x2288b63a100>"
      ]
     },
     "execution_count": 55,
     "metadata": {},
     "output_type": "execute_result"
    },
    {
     "data": {
      "image/png": "[encoded data removed]",
      "text/plain": [
       "<Figure size 432x288 with 2 Axes>"
      ]
     },
     "metadata": {
      "needs_background": "light"
     },
     "output_type": "display_data"
    }
   ],
   "source": [
    "plot_confusion_matrix(clf, pc_test2, y_test)"
   ]
  },
  {
   "cell_type": "markdown",
   "metadata": {},
   "source": [
    "#### Quantas componentes você escolheria, em cada caso para explicar 90% da variância?\n",
    "\n",
    "Neste caso, com apenas 10  componentes não é possível explicar 90% da variância. Com as 10 componentes e os dados padronizados, chegamos a explicar 70,8% da variância.\n",
    "\n",
    "Para saber com quantas chegaríamos a 90% teríamos que rodar o PCA para todas as componentes"
   ]
  },
  {
   "cell_type": "code",
   "execution_count": 56,
   "metadata": {
    "scrolled": true
   },
   "outputs": [
    {
     "name": "stdout",
     "output_type": "stream",
     "text": [
      "CPU times: total: 1.03 s\n",
      "Wall time: 413 ms\n"
     ]
    }
   ],
   "source": [
    "%%time\n",
    "prcomp2_todas = PCA().fit(X_train) "
   ]
  },
  {
   "cell_type": "code",
   "execution_count": 57,
   "metadata": {},
   "outputs": [
    {
     "name": "stdout",
     "output_type": "stream",
     "text": [
      "Para explicar 90% da variância seria necessário 34 componentes principais\n"
     ]
    }
   ],
   "source": [
    "ncomp_criterio3 = (prcomp2_todas.explained_variance_ratio_.cumsum()<0.90).sum()+1\n",
    "print(f'Para explicar 90% da variância seria necessário {ncomp_criterio3} componentes principais')"
   ]
  }
 ],
 "metadata": {
  "kernelspec": {
   "display_name": "Python 3 (ipykernel)",
   "language": "python",
   "name": "python3"
  },
  "language_info": {
   "codemirror_mode": {
    "name": "ipython",
    "version": 3
   },
   "file_extension": ".py",
   "mimetype": "text/x-python",
   "name": "python",
   "nbconvert_exporter": "python",
   "pygments_lexer": "ipython3",
   "version": "3.9.12"
  },
  "toc": {
   "base_numbering": 1,
   "nav_menu": {},
   "number_sections": true,
   "sideBar": true,
   "skip_h1_title": true,
   "title_cell": "Índice",
   "title_sidebar": "Conteúdo",
   "toc_cell": false,
   "toc_position": {},
   "toc_section_display": true,
   "toc_window_display": false
  },
  "varInspector": {
   "cols": {
    "lenName": 16,
    "lenType": 16,
    "lenVar": 40
   },
   "kernels_config": {
    "python": {
     "delete_cmd_postfix": "",
     "delete_cmd_prefix": "del ",
     "library": "var_list.py",
     "varRefreshCmd": "print(var_dic_list())"
    },
    "r": {
     "delete_cmd_postfix": ") ",
     "delete_cmd_prefix": "rm(",
     "library": "var_list.r",
     "varRefreshCmd": "cat(var_dic_list()) "
    }
   },
   "types_to_exclude": [
    "module",
    "function",
    "builtin_function_or_method",
    "instance",
    "_Feature"
   ],
   "window_display": false
  }
 },
 "nbformat": 4,
 "nbformat_minor": 4
}
