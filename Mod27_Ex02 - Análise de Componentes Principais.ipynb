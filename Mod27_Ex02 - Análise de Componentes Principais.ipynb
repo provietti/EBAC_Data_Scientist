{
 "cells": [
  {
   "cell_type": "markdown",
   "metadata": {},
   "source": [
    "# PCA - Tarefa 01: *HAR* com PCA\n",
    "\n",
    "Vamos trabalhar com a base da demonstração feita em aula, mas vamos explorar um pouco melhor como é o desempenho da árvore variando o número de componentes principais."
   ]
  },
  {
   "cell_type": "code",
   "execution_count": 38,
   "metadata": {},
   "outputs": [
    {
     "name": "stderr",
     "output_type": "stream",
     "text": [
      "C:\\Users\\rodpr\\AppData\\Local\\Temp\\ipykernel_29148\\3368985066.py:22: FutureWarning: The squeeze argument has been deprecated and will be removed in a future version. Append .squeeze(\"columns\") to the call to squeeze.\n",
      "\n",
      "\n",
      "  features = pd.read_csv(filename_features, header=None, names=['nome_var'], squeeze=True, sep=\"#\")\n",
      "C:\\Users\\rodpr\\AppData\\Local\\Temp\\ipykernel_29148\\3368985066.py:25: FutureWarning: The squeeze argument has been deprecated and will be removed in a future version. Append .squeeze(\"columns\") to the call to squeeze.\n",
      "\n",
      "\n",
      "  subject_train = pd.read_csv(filename_subtrain, header=None, names=['subject_id'], squeeze=True)\n",
      "C:\\Users\\rodpr\\AppData\\Local\\Temp\\ipykernel_29148\\3368985066.py:29: FutureWarning: The squeeze argument has been deprecated and will be removed in a future version. Append .squeeze(\"columns\") to the call to squeeze.\n",
      "\n",
      "\n",
      "  subject_test = pd.read_csv(filename_subtest, header=None, names=['subject_id'], squeeze=True)\n"
     ]
    }
   ],
   "source": [
    "import pandas as pd\n",
    "import time\n",
    "\n",
    "from sklearn.tree import DecisionTreeClassifier\n",
    "\n",
    "from sklearn.decomposition import PCA\n",
    "from sklearn.metrics import accuracy_score\n",
    "from sklearn.model_selection import cross_val_score\n",
    "from sklearn.model_selection import GridSearchCV\n",
    "\n",
    "filename_features = \"../_Dados/UCI HAR Dataset/features.txt\"\n",
    "filename_labels = \"../_Dados/UCI HAR Dataset/activity_labels.txt\"\n",
    "\n",
    "filename_subtrain = \"../_Dados/UCI HAR Dataset/train/subject_train.txt\"\n",
    "filename_xtrain = \"../_Dados/UCI HAR Dataset/train/X_train.txt\"\n",
    "filename_ytrain = \"../_Dados/UCI HAR Dataset/train/y_train.txt\"\n",
    "\n",
    "filename_subtest = \"../_Dados/UCI HAR Dataset/test/subject_test.txt\"\n",
    "ffilename_xtest = \"../_Dados/UCI HAR Dataset/test/X_test.txt\"\n",
    "filename_ytest = \"../_Dados/UCI HAR Dataset/test/y_test.txt\"\n",
    "\n",
    "features = pd.read_csv(filename_features, header=None, names=['nome_var'], squeeze=True, sep=\"#\")\n",
    "labels = pd.read_csv(filename_labels, delim_whitespace=True, header=None, names=['cod_label', 'label'])\n",
    "\n",
    "subject_train = pd.read_csv(filename_subtrain, header=None, names=['subject_id'], squeeze=True)\n",
    "X_train = pd.read_csv(filename_xtrain, delim_whitespace=True, header=None, names=features.tolist())\n",
    "y_train = pd.read_csv(filename_ytrain, header=None, names=['cod_label'])\n",
    "\n",
    "subject_test = pd.read_csv(filename_subtest, header=None, names=['subject_id'], squeeze=True)\n",
    "X_test = pd.read_csv(ffilename_xtest, delim_whitespace=True, header=None, names=features.tolist())\n",
    "y_test = pd.read_csv(filename_ytest, header=None, names=['cod_label'])"
   ]
  },
  {
   "cell_type": "markdown",
   "metadata": {},
   "source": [
    "## Árvore de decisão\n",
    "\n",
    "Rode uma árvore de decisão com todas as variáveis, utilizando o ```ccp_alpha=0.001```. Avalie a acurácia nas bases de treinamento e teste. Avalie o tempo de processamento."
   ]
  },
  {
   "cell_type": "code",
   "execution_count": 6,
   "metadata": {},
   "outputs": [
    {
     "name": "stdout",
     "output_type": "stream",
     "text": [
      "Acurácia da árvore na base de treino:    97.6\n",
      "Acurácia da árvore na base de teste:     87.9\n",
      "CPU times: total: 3.19 s\n",
      "Wall time: 4.46 s\n"
     ]
    }
   ],
   "source": [
    "%%time\n",
    "ccp_alpha=0.001\n",
    "clf = DecisionTreeClassifier(random_state=2360873, ccp_alpha=ccp_alpha).fit(X_train, y_train)\n",
    "\n",
    "train_score = clf.score(X_train, y_train)\n",
    "test_score = clf.score(X_test, y_test)\n",
    "\n",
    "print(f'Acurácia da árvore na base de treino:    {train_score *100:.1f}')\n",
    "print(f'Acurácia da árvore na base de teste:     {test_score*100:.1f}')"
   ]
  },
  {
   "cell_type": "markdown",
   "metadata": {},
   "source": [
    "## Árvore com PCA\n",
    "\n",
    "Faça uma análise de componemtes principais das variáveis originais. Utilize apenas uma componente. Faça uma árvore de decisão com esta componente como variável explicativa.\n",
    "\n",
    "- Avalie a acurácia nas bases de treinamento e teste\n",
    "- Avalie o tempo de processamento"
   ]
  },
  {
   "cell_type": "code",
   "execution_count": 24,
   "metadata": {},
   "outputs": [
    {
     "name": "stdout",
     "output_type": "stream",
     "text": [
      "CPU times: total: 422 ms\n",
      "Wall time: 184 ms\n"
     ]
    }
   ],
   "source": [
    "%%time\n",
    "# Treinando o PCA (Principal Component Analysis) com 1 componente (n_components=1) usando os dados de treinamento (X_train).\n",
    "prcomp = PCA(n_components=1).fit(X_train) # treinando a árvore com a principal componente\n",
    "# Transformando os dados de treinamento (X_train) usando o PCA treinado (rcomp) para obter as principais componentes.\n",
    "pc_train = prcomp.transform(X_train)\n",
    "# Transformando os dados de teste (X_test) usando o PCA treinado (rcomp) para obter as principais componentes.\n",
    "pc_test  = prcomp.transform(X_test)\n",
    "\n",
    "#Criando um DataFrame para armazenar as principal componente dos dados de treinamento (pc_train)\n",
    "pc_train = pd.DataFrame(pc_train, columns = ['cp1'])\n",
    "#Criando um DataFrame para armazenar as principal componente dos dados de teste(pc_train)\n",
    "pc_test  = pd.DataFrame( pc_test, columns = ['cp1'])\n"
   ]
  },
  {
   "cell_type": "code",
   "execution_count": 25,
   "metadata": {},
   "outputs": [
    {
     "data": {
      "text/html": [
       "<div>\n",
       "<style scoped>\n",
       "    .dataframe tbody tr th:only-of-type {\n",
       "        vertical-align: middle;\n",
       "    }\n",
       "\n",
       "    .dataframe tbody tr th {\n",
       "        vertical-align: top;\n",
       "    }\n",
       "\n",
       "    .dataframe thead th {\n",
       "        text-align: right;\n",
       "    }\n",
       "</style>\n",
       "<table border=\"1\" class=\"dataframe\">\n",
       "  <thead>\n",
       "    <tr style=\"text-align: right;\">\n",
       "      <th></th>\n",
       "      <th>cp1</th>\n",
       "    </tr>\n",
       "  </thead>\n",
       "  <tbody>\n",
       "    <tr>\n",
       "      <th>0</th>\n",
       "      <td>-5.520280</td>\n",
       "    </tr>\n",
       "    <tr>\n",
       "      <th>1</th>\n",
       "      <td>-5.535350</td>\n",
       "    </tr>\n",
       "    <tr>\n",
       "      <th>2</th>\n",
       "      <td>-5.474988</td>\n",
       "    </tr>\n",
       "    <tr>\n",
       "      <th>3</th>\n",
       "      <td>-5.677232</td>\n",
       "    </tr>\n",
       "    <tr>\n",
       "      <th>4</th>\n",
       "      <td>-5.748749</td>\n",
       "    </tr>\n",
       "  </tbody>\n",
       "</table>\n",
       "</div>"
      ],
      "text/plain": [
       "        cp1\n",
       "0 -5.520280\n",
       "1 -5.535350\n",
       "2 -5.474988\n",
       "3 -5.677232\n",
       "4 -5.748749"
      ]
     },
     "execution_count": 25,
     "metadata": {},
     "output_type": "execute_result"
    }
   ],
   "source": [
    "pc_train.head()"
   ]
  },
  {
   "cell_type": "code",
   "execution_count": 26,
   "metadata": {},
   "outputs": [
    {
     "data": {
      "text/html": [
       "<div>\n",
       "<style scoped>\n",
       "    .dataframe tbody tr th:only-of-type {\n",
       "        vertical-align: middle;\n",
       "    }\n",
       "\n",
       "    .dataframe tbody tr th {\n",
       "        vertical-align: top;\n",
       "    }\n",
       "\n",
       "    .dataframe thead th {\n",
       "        text-align: right;\n",
       "    }\n",
       "</style>\n",
       "<table border=\"1\" class=\"dataframe\">\n",
       "  <thead>\n",
       "    <tr style=\"text-align: right;\">\n",
       "      <th></th>\n",
       "      <th>cp1</th>\n",
       "    </tr>\n",
       "  </thead>\n",
       "  <tbody>\n",
       "    <tr>\n",
       "      <th>0</th>\n",
       "      <td>-2.686743</td>\n",
       "    </tr>\n",
       "    <tr>\n",
       "      <th>1</th>\n",
       "      <td>-4.331255</td>\n",
       "    </tr>\n",
       "    <tr>\n",
       "      <th>2</th>\n",
       "      <td>-4.985360</td>\n",
       "    </tr>\n",
       "    <tr>\n",
       "      <th>3</th>\n",
       "      <td>-5.099876</td>\n",
       "    </tr>\n",
       "    <tr>\n",
       "      <th>4</th>\n",
       "      <td>-5.023000</td>\n",
       "    </tr>\n",
       "  </tbody>\n",
       "</table>\n",
       "</div>"
      ],
      "text/plain": [
       "        cp1\n",
       "0 -2.686743\n",
       "1 -4.331255\n",
       "2 -4.985360\n",
       "3 -5.099876\n",
       "4 -5.023000"
      ]
     },
     "execution_count": 26,
     "metadata": {},
     "output_type": "execute_result"
    }
   ],
   "source": [
    "pc_test.head()"
   ]
  },
  {
   "cell_type": "code",
   "execution_count": 28,
   "metadata": {},
   "outputs": [
    {
     "name": "stdout",
     "output_type": "stream",
     "text": [
      "Acurácia da árvore na base de treino:    100.0\n",
      "Acurácia da árvore na base de teste:     41.0\n",
      "CPU times: total: 15.6 ms\n",
      "Wall time: 28.7 ms\n"
     ]
    }
   ],
   "source": [
    "%%time\n",
    "#treinando a árvore com a componente principal como variável explicativa\n",
    "clf = DecisionTreeClassifier(random_state=1234).fit(pc_train, y_train)\n",
    "\n",
    "train_score = clf.score(pc_train, y_train)\n",
    "test_score = clf.score(pc_test, y_test)\n",
    "\n",
    "print(f'Acurácia da árvore na base de treino:    {train_score *100:.1f}')\n",
    "print(f'Acurácia da árvore na base de teste:     {test_score*100:.1f}')"
   ]
  },
  {
   "cell_type": "markdown",
   "metadata": {},
   "source": [
    "Com uma só componente principal o modelo ficou overfittado, conforme  observado pelas acurácias da árvore na base de treino e na base de teste."
   ]
  },
  {
   "cell_type": "markdown",
   "metadata": {},
   "source": [
    "## Testando o número de componentes\n",
    "\n",
    "Com base no código acima, teste a árvore de classificação com pelo menos as seguintes possibilidades de quantidades de componentes: ```[1, 2, 5, 10, 50]```. Avalie para cada uma delas:\n",
    "\n",
    "- Acurácia nas bases de treino e teste\n",
    "- Tempo de processamento\n"
   ]
  },
  {
   "cell_type": "code",
   "execution_count": 46,
   "metadata": {},
   "outputs": [
    {
     "name": "stdout",
     "output_type": "stream",
     "text": [
      "Árvore treinada com 1 componentes principais:\n",
      "\n",
      "Acurácia da árvore na base de treino:    100.0\n",
      "Acurácia da árvore na base de teste:     41.0\n",
      "Tempo levado: 0.21 segundos\n",
      "-----------------------------------------------\n",
      "Árvore treinada com 2 componentes principais:\n",
      "\n",
      "Acurácia da árvore na base de treino:    100.0\n",
      "Acurácia da árvore na base de teste:     51.7\n",
      "Tempo levado: 0.21 segundos\n",
      "-----------------------------------------------\n",
      "Árvore treinada com 5 componentes principais:\n",
      "\n",
      "Acurácia da árvore na base de treino:    100.0\n",
      "Acurácia da árvore na base de teste:     75.3\n",
      "Tempo levado: 0.24 segundos\n",
      "-----------------------------------------------\n",
      "Árvore treinada com 10 componentes principais:\n",
      "\n",
      "Acurácia da árvore na base de treino:    100.0\n",
      "Acurácia da árvore na base de teste:     79.0\n",
      "Tempo levado: 0.33 segundos\n",
      "-----------------------------------------------\n",
      "Árvore treinada com 50 componentes principais:\n",
      "\n",
      "Acurácia da árvore na base de treino:    100.0\n",
      "Acurácia da árvore na base de teste:     80.8\n",
      "Tempo levado: 0.90 segundos\n",
      "-----------------------------------------------\n",
      "Árvore treinada com 80 componentes principais:\n",
      "\n",
      "Acurácia da árvore na base de treino:    100.0\n",
      "Acurácia da árvore na base de teste:     79.8\n",
      "Tempo levado: 1.09 segundos\n",
      "-----------------------------------------------\n",
      "Árvore treinada com 100 componentes principais:\n",
      "\n",
      "Acurácia da árvore na base de treino:    100.0\n",
      "Acurácia da árvore na base de teste:     79.8\n",
      "Tempo levado: 1.29 segundos\n",
      "-----------------------------------------------\n",
      "Árvore treinada com 200 componentes principais:\n",
      "\n",
      "Acurácia da árvore na base de treino:    100.0\n",
      "Acurácia da árvore na base de teste:     79.9\n",
      "Tempo levado: 2.43 segundos\n",
      "-----------------------------------------------\n",
      "Árvore treinada com 300 componentes principais:\n",
      "\n",
      "Acurácia da árvore na base de treino:    100.0\n",
      "Acurácia da árvore na base de teste:     77.7\n",
      "Tempo levado: 3.98 segundos\n",
      "-----------------------------------------------\n",
      "Árvore treinada com 400 componentes principais:\n",
      "\n",
      "Acurácia da árvore na base de treino:    100.0\n",
      "Acurácia da árvore na base de teste:     78.4\n",
      "Tempo levado: 5.37 segundos\n",
      "-----------------------------------------------\n",
      "Árvore treinada com 450 componentes principais:\n",
      "\n",
      "Acurácia da árvore na base de treino:    100.0\n",
      "Acurácia da árvore na base de teste:     77.9\n",
      "Tempo levado: 5.42 segundos\n",
      "-----------------------------------------------\n",
      "Árvore treinada com 561 componentes principais:\n",
      "\n",
      "Acurácia da árvore na base de treino:    100.0\n",
      "Acurácia da árvore na base de teste:     79.0\n",
      "Tempo levado: 5.48 segundos\n",
      "-----------------------------------------------\n",
      "CPU times: total: 30.7 s\n",
      "Wall time: 26.9 s\n"
     ]
    }
   ],
   "source": [
    "%%time\n",
    "num_components = [1, 2, 5, 10, 50, 80, 100, 200, 300, 400, 450, 561]\n",
    "\n",
    "for num in num_components:\n",
    "    start_time = time.time()  # Armazena o tempo de início do loop\n",
    "    \n",
    "    prcomp = PCA(n_components=num).fit(X_train) # treinando a árvore com a principal componente\n",
    "    # Transformando os dados de treinamento (X_train) usando o PCA treinado (rcomp) para obter as principais componentes.\n",
    "    pc_train = prcomp.transform(X_train)\n",
    "    # Transformando os dados de teste (X_test) usando o PCA treinado (rcomp) para obter as principais componentes.\n",
    "    pc_test  = prcomp.transform(X_test)\n",
    "    \n",
    "    #treinando a árvore com a componente principal como variável explicativa\n",
    "    clf = DecisionTreeClassifier(random_state=1234).fit(pc_train, y_train)\n",
    "\n",
    "    train_score = clf.score(pc_train, y_train)\n",
    "    test_score = clf.score(pc_test, y_test)\n",
    "    \n",
    "    end_time = time.time()  # Armazena o tempo de término do loop\n",
    "    elapsed_time = end_time - start_time  # Calcula o tempo total do loop\n",
    "    \n",
    "    print(f'Árvore treinada com {num} componentes principais:\\n')\n",
    "    print(f'Acurácia da árvore na base de treino:    {train_score *100:.1f}')\n",
    "    print(f'Acurácia da árvore na base de teste:     {test_score*100:.1f}')\n",
    "    print(f'Tempo levado: {elapsed_time:.2f} segundos')\n",
    "    print('-----------------------------------------------')\n",
    "\n",
    "\n"
   ]
  },
  {
   "cell_type": "markdown",
   "metadata": {},
   "source": [
    "## Conclua\n",
    "\n",
    "- O que aconteceu com a acurácia?\n",
    "- O que aconteceu com o tempo de processamento?"
   ]
  },
  {
   "cell_type": "markdown",
   "metadata": {},
   "source": [
    "A acurácia na base de teste  vai aumentando bastante conforme incrementamos mais componentes principais, contudo, a partir de 50 componentes principais, adicionar mais componentes não tem mais efeito na melhoria da acurácia da base de teste (acurácia fica oscilando);\n",
    "\n",
    "O tempo de execução vai aumentando conforme aumenta o número de componentes principais consideradas.\n"
   ]
  }
 ],
 "metadata": {
  "kernelspec": {
   "display_name": "Python 3 (ipykernel)",
   "language": "python",
   "name": "python3"
  },
  "language_info": {
   "codemirror_mode": {
    "name": "ipython",
    "version": 3
   },
   "file_extension": ".py",
   "mimetype": "text/x-python",
   "name": "python",
   "nbconvert_exporter": "python",
   "pygments_lexer": "ipython3",
   "version": "3.9.12"
  },
  "toc": {
   "base_numbering": 1,
   "nav_menu": {},
   "number_sections": true,
   "sideBar": true,
   "skip_h1_title": true,
   "title_cell": "Índice",
   "title_sidebar": "Conteúdo",
   "toc_cell": false,
   "toc_position": {},
   "toc_section_display": true,
   "toc_window_display": false
  },
  "varInspector": {
   "cols": {
    "lenName": 16,
    "lenType": 16,
    "lenVar": 40
   },
   "kernels_config": {
    "python": {
     "delete_cmd_postfix": "",
     "delete_cmd_prefix": "del ",
     "library": "var_list.py",
     "varRefreshCmd": "print(var_dic_list())"
    },
    "r": {
     "delete_cmd_postfix": ") ",
     "delete_cmd_prefix": "rm(",
     "library": "var_list.r",
     "varRefreshCmd": "cat(var_dic_list()) "
    }
   },
   "types_to_exclude": [
    "module",
    "function",
    "builtin_function_or_method",
    "instance",
    "_Feature"
   ],
   "window_display": false
  }
 },
 "nbformat": 4,
 "nbformat_minor": 4
}
